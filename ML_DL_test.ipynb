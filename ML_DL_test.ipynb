{
  "nbformat": 4,
  "nbformat_minor": 0,
  "metadata": {
    "colab": {
      "provenance": []
    },
    "kernelspec": {
      "name": "python3",
      "display_name": "Python 3"
    },
    "language_info": {
      "name": "python"
    }
  },
  "cells": [
    {
      "cell_type": "markdown",
      "source": [
        "#MCQs\n",
        "\n",
        "* Q1. Ans - B) 12\n",
        "* Q2. Ans  - A) 0\n",
        "* Q3. Ans - A) 0\n",
        "* Q4 Ans - A) Image classification\n",
        "* Q5 Ans -  A)  It reduces the dataset to 10 features\n",
        "* Q6. Ans - C) The cumulative reward obtained from 100 episodes.\n"
      ],
      "metadata": {
        "id": "LMteiJUkNmaM"
      }
    },
    {
      "cell_type": "code",
      "execution_count": 35,
      "metadata": {
        "colab": {
          "base_uri": "https://localhost:8080/"
        },
        "id": "8R3gb-TgHl3P",
        "outputId": "f677cd88-dc47-493a-ce88-25e40f2a65da"
      },
      "outputs": [
        {
          "output_type": "stream",
          "name": "stdout",
          "text": [
            "Accuracy Score  0.5\n",
            "Classification Report\n",
            "              precision    recall  f1-score   support\n",
            "\n",
            "           0       1.00      0.50      0.67         2\n",
            "           1       0.00      0.00      0.00         0\n",
            "\n",
            "    accuracy                           0.50         2\n",
            "   macro avg       0.50      0.25      0.33         2\n",
            "weighted avg       1.00      0.50      0.67         2\n",
            "\n"
          ]
        },
        {
          "output_type": "stream",
          "name": "stderr",
          "text": [
            "/usr/local/lib/python3.10/dist-packages/ipykernel/ipkernel.py:283: DeprecationWarning: `should_run_async` will not call `transform_cell` automatically in the future. Please pass the result to `transformed_cell` argument and any exception that happen during thetransform in `preprocessing_exc_tuple` in IPython 7.17 and above.\n",
            "  and should_run_async(code)\n",
            "/usr/local/lib/python3.10/dist-packages/sklearn/utils/validation.py:1143: DataConversionWarning: A column-vector y was passed when a 1d array was expected. Please change the shape of y to (n_samples, ), for example using ravel().\n",
            "  y = column_or_1d(y, warn=True)\n",
            "/usr/local/lib/python3.10/dist-packages/sklearn/metrics/_classification.py:1344: UndefinedMetricWarning: Recall and F-score are ill-defined and being set to 0.0 in labels with no true samples. Use `zero_division` parameter to control this behavior.\n",
            "  _warn_prf(average, modifier, msg_start, len(result))\n",
            "/usr/local/lib/python3.10/dist-packages/sklearn/metrics/_classification.py:1344: UndefinedMetricWarning: Recall and F-score are ill-defined and being set to 0.0 in labels with no true samples. Use `zero_division` parameter to control this behavior.\n",
            "  _warn_prf(average, modifier, msg_start, len(result))\n",
            "/usr/local/lib/python3.10/dist-packages/sklearn/metrics/_classification.py:1344: UndefinedMetricWarning: Recall and F-score are ill-defined and being set to 0.0 in labels with no true samples. Use `zero_division` parameter to control this behavior.\n",
            "  _warn_prf(average, modifier, msg_start, len(result))\n"
          ]
        }
      ],
      "source": [
        "# Question 1: Binary Classification with scikit-learn\n",
        "import pandas as pd\n",
        "from sklearn.model_selection import train_test_split\n",
        "from sklearn.linear_model import LogisticRegression\n",
        "from sklearn.metrics import accuracy_score, classification_report\n",
        "\n",
        "# Create a dummy dataset\n",
        "\n",
        "data = pd.DataFrame({\n",
        "    'Age': [25, 30, 35, 40, 45, 50, 55, 66, 65, 70],\n",
        "    'Income': [40000, 45000, 60000, 80000, 90000, 75600, 55000, 60900, 50008, 45000],\n",
        "    'Buy': [1, 0, 1, 1, 0, 1, 0, 0, 0, 1]\n",
        "})\n",
        "# Selecting independet and dependent values\n",
        "x = data.iloc[:, [0,1]].values # independent\n",
        "y = data.iloc[:,-1].values # dependent\n",
        "\n",
        "y = y.reshape(y.shape[0], 1) # reshaping\n",
        "\n",
        "# splitting the dataset\n",
        "x_train, x_test, y_train, y_test = train_test_split(x,y,random_state=7,test_size=0.2)\n",
        "\n",
        "# Building model\n",
        "log = LogisticRegression()\n",
        "log.fit(x_train, y_train)\n",
        "\n",
        "# making predictions\n",
        "predictions = log.predict(x_test)\n",
        "\n",
        "# accuracy and classification report\n",
        "acc = accuracy_score(predictions, y_test)\n",
        "report = classification_report(predictions, y_test)\n",
        "print(\"Accuracy Score \",acc)\n",
        "print(\"Classification Report\")\n",
        "print(report)\n"
      ]
    },
    {
      "cell_type": "code",
      "source": [
        "# Question 2: Multiclass Classification with Dummy Data\n",
        "import pandas as pd\n",
        "from sklearn.model_selection import train_test_split\n",
        "from sklearn.preprocessing import StandardScaler\n",
        "from sklearn import preprocessing\n",
        "from sklearn.tree import DecisionTreeClassifier\n",
        "from sklearn.metrics import accuracy_score, classification_report\n",
        "\n",
        "# Create a dummy dataset\n",
        "data = pd.DataFrame({\n",
        "    'Weight (grams)': [120, 150, 130, 140, 180, 200, 160, 190, 170, 110],\n",
        "    'Color': [1, 2, 1, 2, 3, 2, 3, 1, 2, 3],\n",
        "    'Fruit': ['Apple', 'Banana', 'Apple', 'Banana', 'Orange', 'Banana', 'Orange', 'Apple', 'Banana', 'Apple']\n",
        "})\n",
        "\n",
        "# Selecting independet and dependent values\n",
        "x = data.iloc[:, [0,1]].values # independent\n",
        "y = data.iloc[:, [2]].values # dependent\n",
        "\n",
        "# scaling\n",
        "scaler = StandardScaler()\n",
        "x = scaler.fit_transform(x)\n",
        "\n",
        "# label_encodeing\n",
        "label_encoder = preprocessing.LabelEncoder()\n",
        "y = label_encoder.fit_transform(y)\n",
        "\n",
        "# splitting the dataset\n",
        "x_train, x_test, y_train, y_test = train_test_split(x,y,random_state=7,test_size=0.2)\n",
        "\n",
        "# Building the model\n",
        "dtc = DecisionTreeClassifier()\n",
        "dtc.fit(x_train, y_train)\n",
        "\n",
        "# making predictions\n",
        "predictions = dtc.predict(x_test)\n",
        "\n",
        "# accuracy and classification report\n",
        "acc = accuracy_score(predictions, y_test)\n",
        "report = classification_report(predictions, y_test)\n",
        "print(\"Accuracy Score \", acc)\n",
        "print(\"Classification Report\")\n",
        "print(report)"
      ],
      "metadata": {
        "colab": {
          "base_uri": "https://localhost:8080/"
        },
        "id": "M6YsJZlGTqhO",
        "outputId": "7b3ab599-8ed4-48b2-aa0c-9a8d10644c19"
      },
      "execution_count": 47,
      "outputs": [
        {
          "output_type": "stream",
          "name": "stdout",
          "text": [
            "Accuracy Score  1.0\n",
            "Classification Report\n",
            "              precision    recall  f1-score   support\n",
            "\n",
            "           1       1.00      1.00      1.00         2\n",
            "\n",
            "    accuracy                           1.00         2\n",
            "   macro avg       1.00      1.00      1.00         2\n",
            "weighted avg       1.00      1.00      1.00         2\n",
            "\n"
          ]
        },
        {
          "output_type": "stream",
          "name": "stderr",
          "text": [
            "/usr/local/lib/python3.10/dist-packages/sklearn/preprocessing/_label.py:116: DataConversionWarning: A column-vector y was passed when a 1d array was expected. Please change the shape of y to (n_samples, ), for example using ravel().\n",
            "  y = column_or_1d(y, warn=True)\n"
          ]
        }
      ]
    },
    {
      "cell_type": "code",
      "source": [
        "# Question 4: Regression with scikit-learn\n",
        "import pandas as pd\n",
        "from sklearn.model_selection import train_test_split\n",
        "from sklearn.preprocessing import StandardScaler\n",
        "from sklearn.linear_model import LinearRegression\n",
        "from sklearn.metrics import mean_squared_error, r2_score\n",
        "\n",
        "# Create a dummy dataset\n",
        "data = pd.DataFrame({\n",
        "    'Bedrooms': [2, 3, 2, 4, 3, 3, 4, 2, 5, 4],\n",
        "    'Square Footage': [1200, 1500, 1300, 2000, 1800, 1600, 2200, 1100, 2500, 2100],\n",
        "    'Price':[150, 200, 180, 250, 220, 210, 280, 140, 320, 290]\n",
        "})\n",
        "\n",
        "# Selecting independet and dependent values\n",
        "x = data.iloc[:, [0,1]].values # independent\n",
        "y = data.iloc[:, [2]].values # dependent\n",
        "\n",
        "\n",
        "# scaling\n",
        "scaler = StandardScaler()\n",
        "x = scaler.fit_transform(x)\n",
        "y = scaler.fit_transform(y)\n",
        "\n",
        "# Split the data into training and testing sets\n",
        "x_train, x_test, y_train, y_test = train_test_split(x,y,random_state=7,test_size=0.2)\n",
        "\n",
        "# Build a regression model (e.g., Linear Regression) Train the model on the training data\n",
        "reg = LinearRegression()\n",
        "reg.fit(x_train, y_train)\n",
        "\n",
        "# making predictions\n",
        "predictions = reg.predict(x_test)\n",
        "\n",
        "# Evaluate the model's performance using mean squared error and R-squared\n",
        "mean_square = mean_squared_error(predictions, y_test)\n",
        "r_square = r2_score(predictions, y_test)\n",
        "print(mean_square)\n",
        "print(r_square)"
      ],
      "metadata": {
        "colab": {
          "base_uri": "https://localhost:8080/"
        },
        "id": "ft2vNbV8UQPP",
        "outputId": "a5f7c629-9729-4107-8b7d-a69fe5322cf7"
      },
      "execution_count": 55,
      "outputs": [
        {
          "output_type": "stream",
          "name": "stdout",
          "text": [
            "0.0038460370752010785\n",
            "0.9963108184450251\n"
          ]
        }
      ]
    },
    {
      "cell_type": "code",
      "source": [
        "# Question 6: Time Series Forecasting\n",
        "import pandas as pd\n",
        "from sklearn.model_selection import train_test_split\n",
        "from sklearn.preprocessing import StandardScaler\n",
        "from sklearn.linear_model import LinearRegression\n",
        "from sklearn.metrics import mean_squared_error, r2_score\n",
        "\n",
        "# Create a dummy dataset\n",
        "data = pd.DataFrame({\n",
        "    'Date' : ['2023-01-01', '2023-01-02', '2023-01-03', '2023-01-04', '2023-01-05'],\n",
        "    'Stock Price' : [100, 105, 110, 108, 115]\n",
        "})\n",
        "\n",
        "# converting the 'Date' column to datetime and set it as the index\n",
        "data['Date'] = pd.to_datetime(data['Date'])\n",
        "data.set_index(data['Date'], drop=False, append=False, inplace=False, verify_integrity=False).drop('Date', 1)\n",
        "\n",
        "x = data['Date'].values\n",
        "y = data['Stock Price'].values\n",
        "\n",
        "\n",
        "label_encoder = preprocessing.LabelEncoder()\n",
        "x = label_encoder.fit_transform(x)\n",
        "x = x.reshape(x.shape[0], 1)\n",
        "\n",
        "x_train, x_test, y_train, y_test = train_test_split(x,y,random_state=7,test_size=0.2)\n",
        "\n",
        "# Build a regression model (e.g., Linear Regression) Train the model on the training data\n",
        "reg = LinearRegression()\n",
        "reg.fit(x_train, y_train)\n",
        "\n",
        "# making predictions\n",
        "predictions = reg.predict(x_test)\n",
        "\n",
        "# Evaluate the model's performance using mean squared error and R-squared\n",
        "mean_square = mean_squared_error(predictions, y_test)\n",
        "r_square = r2_score(predictions, y_test)\n",
        "print(mean_square)\n",
        "print(r_square)\n"
      ],
      "metadata": {
        "id": "4iDiMS24YcU1"
      },
      "execution_count": null,
      "outputs": []
    },
    {
      "cell_type": "markdown",
      "source": [
        "# Numpy and Pandas\n",
        "* Q1. Ans - A) [5,7,9]\n",
        "* Q2. Ans -\tB) [2,4]\n",
        "* Q3. Ans -\t‘Bob’\n",
        "* Q4. Ans -\t4.414\n",
        "* Q5. Ans -\tA) [10, 40, 90, 160, 250]\n",
        "* Q6. Ans -\tA) [5, 7, 9]\n",
        "* Q7. Ans -\t‘Bob’\n",
        "* Q8. Ans -\tA) [1, 2, 3, 4, 5, 6, 9]\n",
        "* Q9. Ans -\tB)  [6, 15]\n",
        "* Q10. Ans - C) 4.0"
      ],
      "metadata": {
        "id": "l6s7y_d6cdwt"
      }
    },
    {
      "cell_type": "markdown",
      "source": [
        "# Programming Questions"
      ],
      "metadata": {
        "id": "UteevHy3dQfB"
      }
    },
    {
      "cell_type": "code",
      "source": [
        "# Que.1\n",
        "import pandas as pd\n",
        "data = [\n",
        "    {'name': 'Alice', 'age': 25},\n",
        "    {'name': 'Bob', 'age': 30},\n",
        "    {'name': 'Charlie', 'age': 22}\n",
        "]\n",
        "\n",
        "df = pd.DataFrame(data)\n",
        "\n",
        "# printing the data\n",
        "print(\"DataFrame:\")\n",
        "print(df)\n",
        "\n",
        "# printing alice age\n",
        "alice_age = df[df['name'] == 'Alice']['age'].values[0]\n",
        "print(\"\\nAge of Alice:\", alice_age)\n",
        "\n",
        "# printing average age\n",
        "average_age = df['age'].mean()\n",
        "print(\"\\nAverage Age of All Individuals:\", average_age)"
      ],
      "metadata": {
        "colab": {
          "base_uri": "https://localhost:8080/"
        },
        "id": "GeHH0nIwdVNt",
        "outputId": "5dcdf5c2-5117-44b0-9d75-9d730651440d"
      },
      "execution_count": 83,
      "outputs": [
        {
          "output_type": "stream",
          "name": "stdout",
          "text": [
            "DataFrame:\n",
            "      name  age\n",
            "0    Alice   25\n",
            "1      Bob   30\n",
            "2  Charlie   22\n",
            "\n",
            "Age of Alice: 25\n",
            "\n",
            "Average Age of All Individuals: 25.666666666666668\n",
            "1    Bob\n",
            "Name: name, dtype: object\n"
          ]
        }
      ]
    },
    {
      "cell_type": "code",
      "source": [
        "# Que.2\n",
        "import pandas as pd\n",
        "\n",
        "data = {\n",
        "    \"City\": [\"New York\", \"Los Angeles\", \"Chicago\"],\n",
        "    \"Population\": [8623000, 3999759, 2716000]\n",
        "}\n",
        "\n",
        "df = pd.DataFrame(data)\n",
        "\n",
        "# printing the dataframe\n",
        "print(\"DataFrame:\")\n",
        "print(df)\n",
        "\n",
        "# printing city with largest population\n",
        "print(\"The city with the largest population is: \",df['City'][df['Population'].idxmax()] )\n",
        "\n",
        "\n",
        "# calculating total population\n",
        "print(\"The total population of all cities is: \", df['Population'].sum())"
      ],
      "metadata": {
        "colab": {
          "base_uri": "https://localhost:8080/"
        },
        "id": "lonxYasndXsR",
        "outputId": "b8401bff-6b5c-47d8-bda1-64b08328629d"
      },
      "execution_count": 94,
      "outputs": [
        {
          "output_type": "stream",
          "name": "stdout",
          "text": [
            "DataFrame:\n",
            "          City  Population\n",
            "0     New York     8623000\n",
            "1  Los Angeles     3999759\n",
            "2      Chicago     2716000\n",
            "The city with the largest population is:  New York\n",
            "The total population of all cities is:  15338759\n"
          ]
        }
      ]
    },
    {
      "cell_type": "code",
      "source": [
        "# Que.3\n",
        "import numpy as np\n",
        "arr = np.random.rand(20)\n",
        "mean = np.mean(arr)\n",
        "count_greater_than_0_5 = np.sum(arr > 0.5)\n",
        "\n",
        "# printing the array\n",
        "print(\"Array:\", arr)\n",
        "\n",
        "# printing the mean\n",
        "print(\"Mean:\", mean)\n",
        "\n",
        "# counting values greater the 0.5\n",
        "print(\"Count of values greater than 0.5:\", count_greater_than_0_5)"
      ],
      "metadata": {
        "colab": {
          "base_uri": "https://localhost:8080/"
        },
        "id": "bH0CblTRdgXB",
        "outputId": "963edbcb-a50b-409f-eb8d-27cc6e74ffb9"
      },
      "execution_count": 81,
      "outputs": [
        {
          "output_type": "stream",
          "name": "stdout",
          "text": [
            "Array: [0.42727309 0.41881035 0.93331015 0.9443784  0.22317017 0.22686585\n",
            " 0.87201419 0.84212084 0.90725488 0.42072399 0.69179853 0.73619827\n",
            " 0.44776958 0.62139771 0.73495446 0.42081421 0.83995403 0.92545571\n",
            " 0.99829857 0.6650149 ]\n",
            "Mean: 0.6648788947982838\n",
            "Count of values greater than 0.5: 13\n"
          ]
        }
      ]
    },
    {
      "cell_type": "code",
      "source": [
        "#  Ques 4\n",
        "data = {'ProductId' : [101, 102, 103], 'ProductName':['Laptop', 'Smartphone', 'Tablet'], \"Price\": [800, 400, 250]}\n",
        "df = pd.DataFrame(data)\n",
        "\n",
        "# printing the dataframe\n",
        "print(df)\n",
        "\n",
        "# printing the highest price\n",
        "print(\"Max Price: \",df['Price'].max())\n",
        "\n",
        "# printing cost of all product\n",
        "print(\"Total Price:\",df['Price'].sum())"
      ],
      "metadata": {
        "colab": {
          "base_uri": "https://localhost:8080/"
        },
        "id": "LPf4R-M4dljj",
        "outputId": "47b063c1-4095-4f5c-a890-76c075ba9368"
      },
      "execution_count": 92,
      "outputs": [
        {
          "output_type": "stream",
          "name": "stdout",
          "text": [
            "   ProductId ProductName  Price\n",
            "0        101      Laptop    800\n",
            "1        102  Smartphone    400\n",
            "2        103      Tablet    250\n",
            "Max Price:  800\n",
            "Total Price: 1450\n"
          ]
        }
      ]
    },
    {
      "cell_type": "code",
      "source": [
        "# Ques 5\n",
        "data = {'City' : ['London', 'Paris', 'Berlin'], 'Population':[8787892, 2206488, 3644826], \"Area\": [607, 40.7, 344]}\n",
        "df = pd.DataFrame(data)\n",
        "\n",
        "# printing the dataframe\n",
        "print(df)\n",
        "\n",
        "# printing highest population density\n",
        "print(\"Highest Population Density: \", df['City'][(df['Population']/df['Area']).idxmax()])\n",
        "\n",
        "# total area of all cities\n",
        "print(\"Total Area of all cities: \", df['Area'].sum())"
      ],
      "metadata": {
        "colab": {
          "base_uri": "https://localhost:8080/"
        },
        "id": "pPkWZOhbiTpq",
        "outputId": "65f53277-9fb1-4b61-fe19-e109889b1c3d"
      },
      "execution_count": 100,
      "outputs": [
        {
          "output_type": "stream",
          "name": "stdout",
          "text": [
            "     City  Population   Area\n",
            "0  London     8787892  607.0\n",
            "1   Paris     2206488   40.7\n",
            "2  Berlin     3644826  344.0\n",
            "Highest Population Density:  Paris\n",
            "Total Area of all cities:  991.7\n"
          ]
        },
        {
          "output_type": "stream",
          "name": "stderr",
          "text": [
            "/usr/local/lib/python3.10/dist-packages/ipykernel/ipkernel.py:283: DeprecationWarning: `should_run_async` will not call `transform_cell` automatically in the future. Please pass the result to `transformed_cell` argument and any exception that happen during thetransform in `preprocessing_exc_tuple` in IPython 7.17 and above.\n",
            "  and should_run_async(code)\n"
          ]
        }
      ]
    }
  ]
}